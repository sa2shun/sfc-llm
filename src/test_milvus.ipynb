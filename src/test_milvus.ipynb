{
  "nbformat": 4,
  "nbformat_minor": 0,
  "metadata": {
    "colab": {
      "provenance": []
    },
    "kernelspec": {
      "name": "python3",
      "display_name": "Python 3"
    },
    "language_info": {
      "name": "python"
    }
  },
  "cells": [
    {
      "cell_type": "code",
      "execution_count": null,
      "metadata": {
        "id": "Yj3LWjo2A0X2",
        "collapsed": true
      },
      "outputs": [],
      "source": [
        "!pip install -U pymilvus\n",
        "!pip install \"pymilvus[model]\""
      ]
    },
    {
      "cell_type": "code",
      "source": [
        "from google.colab import drive\n",
        "from pymilvus import MilvusClient, DataType, model\n",
        "import pandas as pd"
      ],
      "metadata": {
        "id": "sMeVGe4AEXiS"
      },
      "execution_count": null,
      "outputs": []
    },
    {
      "cell_type": "code",
      "source": [
        "drive.mount(\"/content/drive\")"
      ],
      "metadata": {
        "id": "caeolEXVA_lV"
      },
      "execution_count": null,
      "outputs": []
    },
    {
      "cell_type": "code",
      "source": [
        "client = MilvusClient(\"sfc_syllabus.db\")"
      ],
      "metadata": {
        "id": "PQrW9cNzA7pu"
      },
      "execution_count": null,
      "outputs": []
    },
    {
      "cell_type": "code",
      "source": [
        "# embeddingモデル定義\n",
        "embedding_fn = model.dense.SentenceTransformerEmbeddingFunction(\n",
        "    model_name=\"all-MiniLM-L6-v2\",\n",
        "    device=\"cpu\",\n",
        ")\n",
        "dim = embedding_fn.dim"
      ],
      "metadata": {
        "collapsed": true,
        "id": "LNGLziuUXafY"
      },
      "execution_count": null,
      "outputs": []
    },
    {
      "cell_type": "code",
      "source": [
        "# スキーマ定義\n",
        "schema = MilvusClient.create_schema(\n",
        "    auto_id=True,\n",
        "    enable_dynamic_field=False,\n",
        ")\n",
        "\n",
        "schema.add_field(field_name=\"id\", datatype=DataType.INT64, is_primary=True) # ID\n",
        "schema.add_field(field_name=\"subject_name\", datatype=DataType.VARCHAR, max_length=64) # 科目名\n",
        "schema.add_field(field_name=\"faculty\", datatype=DataType.BOOL) # 学部\n",
        "schema.add_field(field_name=\"category\", datatype=DataType.VARCHAR, max_length=32) # 分野\n",
        "schema.add_field(field_name=\"credits\", datatype=DataType.INT8) # 単位\n",
        "schema.add_field(field_name=\"year\", datatype=DataType.INT16) # 年度\n",
        "schema.add_field(field_name=\"semester\", datatype=DataType.VARCHAR, max_length=1) # 学期\n",
        "# schema.add_field(field_name=\"day\", datatype=DataType.ARRAY, element_type=DataType.VARCHAR, max_capacity=4, max_length=1, nullable=True) # 曜日\n",
        "# schema.add_field(field_name=\"period\", datatype=DataType.ARRAY, element_type=DataType.INT8, max_capacity=4, nullable=True) # 時限\n",
        "schema.add_field(field_name=\"delivery_mode\", datatype=DataType.VARCHAR, max_length=8) # 実施形態\n",
        "schema.add_field(field_name=\"language\", datatype=DataType.VARCHAR, max_length=16) # 言語\n",
        "schema.add_field(field_name=\"english_support\", datatype=DataType.BOOL) # 英語サポート\n",
        "schema.add_field(field_name=\"selection\", datatype=DataType.VARCHAR, max_length=4) # 履修選抜\n",
        "schema.add_field(field_name=\"giga\", datatype=DataType.BOOL) # GIGA\n",
        "schema.add_field(field_name=\"summary\", datatype=DataType.FLOAT_VECTOR, dim=dim) # 講義概要\n",
        "schema.add_field(field_name=\"goals\", datatype=DataType.FLOAT_VECTOR, dim=dim) # 主題と目標\n",
        "schema.add_field(field_name=\"schedule\", datatype=DataType.FLOAT_VECTOR, dim=dim) # 授業計画\n",
        "schema.add_field(field_name=\"url\", datatype=DataType.VARCHAR, max_length=64) # URL"
      ],
      "metadata": {
        "id": "6Uj3bcUgedlG"
      },
      "execution_count": null,
      "outputs": []
    },
    {
      "cell_type": "code",
      "source": [
        "# インデックス定義\n",
        "index_params = client.prepare_index_params()\n",
        "\n",
        "index_params.add_index(\n",
        "    field_name=\"summary\",\n",
        "    metric_type=\"COSINE\",\n",
        "    index_type=\"FLAT\",\n",
        ")"
      ],
      "metadata": {
        "id": "vwc7M4NASS8f"
      },
      "execution_count": null,
      "outputs": []
    },
    {
      "cell_type": "code",
      "source": [
        "# コレクション作成\n",
        "collection_name = \"sfc_syllabus_collection\"\n",
        "\n",
        "if client.has_collection(collection_name=collection_name):\n",
        "    client.drop_collection(collection_name=collection_name)\n",
        "\n",
        "client.create_collection(\n",
        "    collection_name=collection_name,\n",
        "    schema=schema,\n",
        "    index_params=index_params,\n",
        ")"
      ],
      "metadata": {
        "id": "io3D74qWDIm-"
      },
      "execution_count": null,
      "outputs": []
    },
    {
      "cell_type": "code",
      "source": [
        "df = pd.read_csv(\"/content/drive/MyDrive/sfc-llm/sfc_syllabus.csv\")\n",
        "\n",
        "data_list = []\n",
        "\n",
        "for index, row in df.iterrows():\n",
        "    if row[\"学部・研究科\"] not in (\"総合政策・環境情報学部\", \"政策・メディア研究科\"):\n",
        "        print(f\"error {index}\")\n",
        "        continue\n",
        "\n",
        "    # 欠損値を除外\n",
        "    if pd.isna(row[\"授業概要\"]) or pd.isna(row[\"主題と目標\"]) or pd.isna(row[\"授業計画\"]):\n",
        "        print(f\"error {index}\")\n",
        "        continue\n",
        "\n",
        "    print(index)\n",
        "\n",
        "    docs = [row[\"授業概要\"], row[\"主題と目標\"], row[\"授業計画\"]]\n",
        "    vectors = embedding_fn.encode_documents(docs)\n",
        "\n",
        "    data = {\n",
        "        \"subject_name\": row[\"科目名\"],\n",
        "        \"faculty\": True if row[\"学部・研究科\"] == \"総合政策・環境情報学部\" else False,\n",
        "        \"category\": row[\"分野\"],\n",
        "        \"credits\": int(row[\"単位\"][0]),\n",
        "        \"year\": int(row[\"開講年度・学期\"].split()[0]),\n",
        "        \"semester\": row[\"開講年度・学期\"].split()[1][0],\n",
        "        \"delivery_mode\": row[\"実施形態\"],\n",
        "        \"language\": row[\"授業で使う言語\"],\n",
        "        \"english_support\": True if row[\"英語サポート\"] == \"あり\" else False,\n",
        "        \"selection\": row[\"履修制限\"],\n",
        "        \"giga\": True if row[\"GIGA\"] == \"対象\" else False,\n",
        "        \"url\": row[\"URL\"],\n",
        "        \"summary\": vectors[0],\n",
        "        \"goals\": vectors[1],\n",
        "        \"schedule\": vectors[2]\n",
        "    }\n",
        "\n",
        "    data_list.append(data)\n",
        "\n",
        "res = client.insert(collection_name=collection_name, data=data_list)\n",
        "print(res)"
      ],
      "metadata": {
        "id": "cy_k4A1ZLj65",
        "collapsed": true
      },
      "execution_count": null,
      "outputs": []
    },
    {
      "cell_type": "code",
      "source": [
        "# 検索クエリ\n",
        "queries = [\"\"]\n",
        "query_vectors = embedding_fn.encode_queries(queries)\n",
        "res = client.search(\n",
        "    collection_name=collection_name,\n",
        "    anns_field=\"summary\",\n",
        "    data=query_vectors,\n",
        "    limit=5,\n",
        "    search_params={\"metric_type\": \"COSINE\"},\n",
        "    output_fields=[\"subject_name\", \"url\"],\n",
        ")\n",
        "\n",
        "for hits in res:\n",
        "    for hit in hits:\n",
        "        print(hit)"
      ],
      "metadata": {
        "id": "zF167CeUdGPe"
      },
      "execution_count": null,
      "outputs": []
    }
  ]
}